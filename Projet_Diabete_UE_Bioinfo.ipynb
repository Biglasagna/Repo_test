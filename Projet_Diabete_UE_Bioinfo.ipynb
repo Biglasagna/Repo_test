{
  "cells": [
    {
      "cell_type": "markdown",
      "metadata": {
        "id": "view-in-github",
        "colab_type": "text"
      },
      "source": [
        "<a href=\"https://colab.research.google.com/github/Biglasagna/Repo_test/blob/main/Projet_Diabete_UE_Bioinfo.ipynb\" target=\"_parent\"><img src=\"https://colab.research.google.com/assets/colab-badge.svg\" alt=\"Open In Colab\"/></a>"
      ]
    },
    {
      "cell_type": "markdown",
      "source": [
        "---\n",
        "# Proposition d'un modèle de deep learning pour la classification patients/contrôles pour le diabète de type 1 à partir de données phénotypiques.\n",
        "---\n"
      ],
      "metadata": {
        "id": "D0acW0mQXw8F"
      }
    },
    {
      "cell_type": "markdown",
      "source": [
        "Etapes du code :\n",
        "\n",
        "* Présentation des données\n",
        "* Visualisation des données\n",
        "* Préparation des données\n",
        "* Création du modèle et entrainement\n",
        "* Visualisation de l'entrainement\n",
        "* Test\n",
        "* Visualisation des résultats"
      ],
      "metadata": {
        "id": "oEJIckZFi5HP"
      }
    },
    {
      "cell_type": "markdown",
      "source": [
        "## 1.1 | Introduction:\n",
        "\n",
        "La prédiction d'un état patient/non patient fiable à partir de données faciles d'obtention est un défis difficile pour les practiciens et de plus en plus étudié dans le domaine\n",
        " de la recherche en deeplearning. La capacité des modèles en réseau de neurones de procéder à un apprentissage sans apriori sur les données en fait un redoutable outil qui ne laisse rien au hasard et est bien plus robuste que d'autres algorithmes lorsque l'on traite de corrélation  non linéaires entre état et variables. En contrepartie, ce genre d'algorithmes necessitent à la fois un jeu de données informatif et le plus grand possible, de pair avec des capacités calculatoires de plus en plus grandes. Ici, nous essayerons d'appliquer un réseau de neurone circonvolutionnel (CNN) afin de prédire l'état patient/contrôle pour le diabète myelitus. Pour cela, nous nous basons sur un ensemnble de données qualitatives ou continues issues de mesures simples et de prise de sang.\n",
        "\n",
        "## 1.2 | Choix du jeu de données:\n",
        "\n",
        "\n",
        "The Pima Indians Diabetes Dataset is a publicly available test dataset widely used for diabetes research and predictive modeling. It contains 768 observations of females of Pima Indian heritage aged 21 years or older. The dataset includes eight medical predictor variables and one target variable. The predictor variables are:\n",
        "\n",
        "Pregnancies: Number of times pregnant\n",
        "Glucose: Plasma glucose concentration over 2 hours in an oral glucose tolerance test\n",
        "Blood Pressure: Diastolic blood pressure (mm Hg)\n",
        "Skin Thickness: Triceps skinfold thickness (mm)\n",
        "Insulin: 2-hour serum insulin (mu U/ml)\n",
        "BMI: Body mass index (weight in kg/(height in m)^2)\n",
        "Diabetes Pedigree Function: A function that scores the likelihood of diabetes based on family history\n",
        "Age: Age in years\n",
        "\n",
        "\n",
        "## 1.3 | Analyses descriptives\n",
        "\n"
      ],
      "metadata": {
        "id": "ygtY5nB5Ew4r"
      }
    },
    {
      "cell_type": "code",
      "source": [],
      "metadata": {
        "id": "q_3NRCtSM9Zu"
      },
      "execution_count": null,
      "outputs": []
    }
  ],
  "metadata": {
    "colab": {
      "toc_visible": true,
      "provenance": [],
      "include_colab_link": true
    },
    "kernelspec": {
      "display_name": "Python 3",
      "name": "python3"
    }
  },
  "nbformat": 4,
  "nbformat_minor": 0
}