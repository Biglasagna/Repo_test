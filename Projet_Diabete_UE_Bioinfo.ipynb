{
  "cells": [
    {
      "cell_type": "markdown",
      "metadata": {
        "id": "view-in-github",
        "colab_type": "text"
      },
      "source": [
        "<a href=\"https://colab.research.google.com/github/Biglasagna/Repo_test/blob/main/Projet_Diabete_UE_Bioinfo.ipynb\" target=\"_parent\"><img src=\"https://colab.research.google.com/assets/colab-badge.svg\" alt=\"Open In Colab\"/></a>"
      ]
    },
    {
      "cell_type": "markdown",
      "source": [
        "---\n",
        "# Proposition d'un modèle de deep learning pour la classification patients/contrôles pour le diabète de type 1 à partir de données phénotypiques.\n",
        "---\n"
      ],
      "metadata": {
        "id": "D0acW0mQXw8F"
      }
    },
    {
      "cell_type": "markdown",
      "source": [
        "Etapes du code :\n",
        "\n",
        "* Présentation des données\n",
        "* Visualisation des données\n",
        "* Préparation des données\n",
        "* Création du modèle et entrainement\n",
        "* Visualisation de l'entrainement\n",
        "* Test\n",
        "* Visualisation des résultats"
      ],
      "metadata": {
        "id": "oEJIckZFi5HP"
      }
    }
  ],
  "metadata": {
    "colab": {
      "toc_visible": true,
      "provenance": [],
      "include_colab_link": true
    },
    "kernelspec": {
      "display_name": "Python 3",
      "name": "python3"
    }
  },
  "nbformat": 4,
  "nbformat_minor": 0
}